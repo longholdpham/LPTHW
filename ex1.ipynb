{
 "cells": [
  {
   "cell_type": "code",
   "execution_count": 8,
   "id": "ec119503-a2f5-427e-bdcf-698fd0d0ffc7",
   "metadata": {},
   "outputs": [
    {
     "name": "stdin",
     "output_type": "stream",
     "text": [
      "What's your name? Long\n"
     ]
    },
    {
     "name": "stdout",
     "output_type": "stream",
     "text": [
      "Hi Long, I'm the script script\n",
      "I'd like to ask you a few questions.\n",
      "Do you like me Long?\n"
     ]
    },
    {
     "name": "stdin",
     "output_type": "stream",
     "text": [
      "|>  SUre\n"
     ]
    },
    {
     "name": "stdout",
     "output_type": "stream",
     "text": [
      "Where do you live Long?\n"
     ]
    },
    {
     "name": "stdin",
     "output_type": "stream",
     "text": [
      "|>  Oakland\n"
     ]
    },
    {
     "name": "stdout",
     "output_type": "stream",
     "text": [
      "What kind of computer do you have?\n"
     ]
    },
    {
     "name": "stdin",
     "output_type": "stream",
     "text": [
      "|>  PC\n"
     ]
    },
    {
     "name": "stdout",
     "output_type": "stream",
     "text": [
      "\n",
      "Alright, so you said SUre about liking me.\n",
      "You live in Oakland. Not sure where that is.\n",
      "And you have a PC computer. Nice.\n",
      "\n"
     ]
    }
   ],
   "source": [
    "from sys import argv\n",
    "\n",
    "script = \"script\"\n",
    "user_name = input(\"What's your name?\")\n",
    "prompt = '|> '\n",
    "\n",
    "print(f\"Hi {user_name}, I'm the {script} script\")\n",
    "print(\"I'd like to ask you a few questions.\")\n",
    "print(f\"Do you like me {user_name}?\")\n",
    "likes = input(prompt)\n",
    "\n",
    "print(f\"Where do you live {user_name}?\")\n",
    "lives = input(prompt)\n",
    "\n",
    "print(\"What kind of computer do you have?\")\n",
    "computer = input(prompt)\n",
    "\n",
    "print(f\"\"\"\n",
    "Alright, so you said {likes} about liking me.\n",
    "You live in {lives}. Not sure where that is.\n",
    "And you have a {computer} computer. Nice.\n",
    "\"\"\")\n"
   ]
  }
 ],
 "metadata": {
  "kernelspec": {
   "display_name": "Python 3 (ipykernel)",
   "language": "python",
   "name": "python3"
  },
  "language_info": {
   "codemirror_mode": {
    "name": "ipython",
    "version": 3
   },
   "file_extension": ".py",
   "mimetype": "text/x-python",
   "name": "python",
   "nbconvert_exporter": "python",
   "pygments_lexer": "ipython3",
   "version": "3.12.7"
  }
 },
 "nbformat": 4,
 "nbformat_minor": 5
}
