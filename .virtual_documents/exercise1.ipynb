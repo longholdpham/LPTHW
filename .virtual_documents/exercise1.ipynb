%run exercise9.py



